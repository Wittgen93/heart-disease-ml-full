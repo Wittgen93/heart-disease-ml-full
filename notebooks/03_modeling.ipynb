{
 "cells": [
  {
   "cell_type": "markdown",
   "id": "73e43d77",
   "metadata": {},
   "source": [
    "# 03_modeling.ipynb\n",
    "\n",
    "**Цель:** обучить 3 модели (LogReg, RandomForest, MLP), сравнить по ROC-AUC, сохранить лучшую и сделать инференс на test.\n"
   ]
  },
  {
   "cell_type": "markdown",
   "id": "f02e32d1",
   "metadata": {},
   "source": [
    "1. Импорт библиотек и базовая настройка"
   ]
  },
  {
   "cell_type": "code",
   "execution_count": 19,
   "id": "2867ad66",
   "metadata": {},
   "outputs": [
    {
     "data": {
      "text/plain": [
       "<torch._C.Generator at 0x1c7e05d4e90>"
      ]
     },
     "execution_count": 19,
     "metadata": {},
     "output_type": "execute_result"
    }
   ],
   "source": [
    "import os, json, joblib, random\n",
    "from typing import Dict\n",
    "import numpy as np\n",
    "import pandas as pd\n",
    "import matplotlib.pyplot as plt\n",
    "\n",
    "from sklearn.model_selection import train_test_split\n",
    "from sklearn.preprocessing import StandardScaler\n",
    "from sklearn.compose import ColumnTransformer\n",
    "from sklearn.pipeline import Pipeline\n",
    "from sklearn.metrics import roc_auc_score, average_precision_score, f1_score, accuracy_score\n",
    "from sklearn.metrics import roc_curve, auc, precision_recall_curve, average_precision_score\n",
    "from sklearn.linear_model import LogisticRegression\n",
    "from sklearn.ensemble import RandomForestClassifier\n",
    "\n",
    "import torch\n",
    "import torch.nn as nn\n",
    "from torch.utils.data import TensorDataset, DataLoader\n",
    "\n",
    "# пути\n",
    "DATA_DIR = \"../data/processed\"\n",
    "ART_DIR  = \"../artifacts\"\n",
    "MOD_DIR  = \"../models\"\n",
    "os.makedirs(ART_DIR, exist_ok=True); os.makedirs(MOD_DIR, exist_ok=True)\n",
    "\n",
    "# воспроизводимость\n",
    "SEED = 42\n",
    "random.seed(SEED); np.random.seed(SEED); torch.manual_seed(SEED)"
   ]
  },
  {
   "cell_type": "markdown",
   "id": "b058e9af",
   "metadata": {},
   "source": [
    "2. Загружаем подготовленные данные + split"
   ]
  },
  {
   "cell_type": "code",
   "execution_count": 7,
   "id": "e6687144",
   "metadata": {},
   "outputs": [
    {
     "name": "stdout",
     "output_type": "stream",
     "text": [
      "X shape: (600000, 20) | y mean: 0.444185\n",
      "train/val: (480000, 20) (120000, 20)\n"
     ]
    }
   ],
   "source": [
    "# 1) читаем подготовленные данные\n",
    "df = pd.read_csv(f\"{DATA_DIR}/train_preprocessed.csv\")\n",
    "df_test = pd.read_csv(f\"{DATA_DIR}/test_preprocessed.csv\")\n",
    "\n",
    "# 2) фичи/таргет\n",
    "target_col = \"class\"\n",
    "id_col = \"ID\"\n",
    "feature_cols = [c for c in df.columns if c not in (id_col, target_col)]\n",
    "\n",
    "# 3) числовые для скейлинга\n",
    "num_cols = [\"age\", \"resting_blood_pressure\", \"serum_cholestoral\",\n",
    "            \"maximum_heart_rate_achieved\", \"oldpeak\"]\n",
    "\n",
    "X = df[feature_cols].copy()\n",
    "y = df[target_col].astype(int).values\n",
    "print(\"X shape:\", X.shape, \"| y mean:\", y.mean())\n",
    "\n",
    "# stratified split\n",
    "X_train, X_val, y_train, y_val = train_test_split(\n",
    "    X, y, test_size=0.2, stratify=y, random_state=SEED\n",
    ")\n",
    "print(\"train/val:\", X_train.shape, X_val.shape)"
   ]
  },
  {
   "cell_type": "markdown",
   "id": "764fd7f3",
   "metadata": {},
   "source": [
    "3. Вспомогательная функция оценки"
   ]
  },
  {
   "cell_type": "code",
   "execution_count": 8,
   "id": "0d316036",
   "metadata": {},
   "outputs": [],
   "source": [
    "def evaluate_proba(y_true: np.ndarray, y_proba: np.ndarray) -> Dict[str, float]:\n",
    "    \"\"\"Возвращает метрики по вероятностям.\"\"\"\n",
    "    auc = roc_auc_score(y_true, y_proba)\n",
    "    ap  = average_precision_score(y_true, y_proba)\n",
    "    y_pred = (y_proba >= 0.5).astype(int)\n",
    "    return {\n",
    "        \"roc_auc\": float(auc),\n",
    "        \"avg_prec\": float(ap),\n",
    "        \"f1\": float(f1_score(y_true, y_pred)),\n",
    "        \"accuracy\": float(accuracy_score(y_true, y_pred)),\n",
    "    }"
   ]
  },
  {
   "cell_type": "markdown",
   "id": "4bc7e4ea",
   "metadata": {},
   "source": [
    "Logistic Regression"
   ]
  },
  {
   "cell_type": "code",
   "execution_count": 9,
   "id": "eeb28135",
   "metadata": {},
   "outputs": [
    {
     "data": {
      "text/plain": [
       "{'roc_auc': 0.9557012127698729,\n",
       " 'avg_prec': 0.9484938638806895,\n",
       " 'f1': 0.8758025402547688,\n",
       " 'accuracy': 0.8886083333333333}"
      ]
     },
     "execution_count": 9,
     "metadata": {},
     "output_type": "execute_result"
    }
   ],
   "source": [
    "# preprocessor: скейлим только числовые, остальное — passthrough\n",
    "preproc = ColumnTransformer(\n",
    "    transformers=[(\"num\", StandardScaler(), num_cols)],\n",
    "    remainder=\"passthrough\",\n",
    "    verbose_feature_names_out=False,\n",
    ")\n",
    "\n",
    "logreg = LogisticRegression(\n",
    "    solver=\"saga\", max_iter=2000, n_jobs=-1,\n",
    "    class_weight=\"balanced\", C=1.0, random_state=SEED\n",
    ")\n",
    "\n",
    "pipe_lr = Pipeline([(\"preproc\", preproc), (\"clf\", logreg)])\n",
    "pipe_lr.fit(X_train, y_train)\n",
    "\n",
    "proba_val_lr = pipe_lr.predict_proba(X_val)[:, 1]\n",
    "metrics_lr = evaluate_proba(y_val, proba_val_lr)\n",
    "metrics_lr"
   ]
  },
  {
   "cell_type": "markdown",
   "id": "45e0cff4",
   "metadata": {},
   "source": [
    "RandomForest"
   ]
  },
  {
   "cell_type": "code",
   "execution_count": 10,
   "id": "52cfe3ce",
   "metadata": {},
   "outputs": [
    {
     "data": {
      "text/plain": [
       "{'roc_auc': 0.9598880669907139,\n",
       " 'avg_prec': 0.95351479714177,\n",
       " 'f1': 0.8831806556614741,\n",
       " 'accuracy': 0.895325}"
      ]
     },
     "execution_count": 10,
     "metadata": {},
     "output_type": "execute_result"
    }
   ],
   "source": [
    "rf = RandomForestClassifier(\n",
    "    n_estimators=400,\n",
    "    max_depth=12,\n",
    "    min_samples_leaf=10,\n",
    "    n_jobs=-1,\n",
    "    class_weight=\"balanced_subsample\",\n",
    "    random_state=SEED,\n",
    ")\n",
    "rf.fit(X_train, y_train)\n",
    "\n",
    "proba_val_rf = rf.predict_proba(X_val)[:, 1]\n",
    "metrics_rf = evaluate_proba(y_val, proba_val_rf)\n",
    "metrics_rf"
   ]
  },
  {
   "cell_type": "markdown",
   "id": "6eb6c67e",
   "metadata": {},
   "source": [
    "MLP (PyTorch) + обучение с ранней остановкой"
   ]
  },
  {
   "cell_type": "code",
   "execution_count": 11,
   "id": "feea3d4f",
   "metadata": {},
   "outputs": [
    {
     "data": {
      "text/plain": [
       "{'roc_auc': 0.9627166575842783,\n",
       " 'avg_prec': 0.9569500009578468,\n",
       " 'f1': 0.886420877517449,\n",
       " 'accuracy': 0.8981583333333333}"
      ]
     },
     "execution_count": 11,
     "metadata": {},
     "output_type": "execute_result"
    }
   ],
   "source": [
    "# готовим скейлер для числовых\n",
    "scaler_nn = StandardScaler().fit(X_train[num_cols])\n",
    "Xtr = X_train.copy(); Xva = X_val.copy()\n",
    "Xtr[num_cols] = scaler_nn.transform(Xtr[num_cols])\n",
    "Xva[num_cols] = scaler_nn.transform(Xva[num_cols])\n",
    "\n",
    "# в тензоры\n",
    "Xtr_t = torch.tensor(Xtr.values, dtype=torch.float32)\n",
    "ytr_t = torch.tensor(y_train.reshape(-1, 1), dtype=torch.float32)\n",
    "Xva_t = torch.tensor(Xva.values, dtype=torch.float32)\n",
    "yva_t = torch.tensor(y_val.reshape(-1, 1), dtype=torch.float32)\n",
    "\n",
    "train_loader = DataLoader(TensorDataset(Xtr_t, ytr_t), batch_size=8192, shuffle=True)\n",
    "\n",
    "# pos_weight для дисбаланса\n",
    "pos_weight = torch.tensor([(len(y_train) - y_train.sum()) / y_train.sum()], dtype=torch.float32)\n",
    "\n",
    "class MLP(nn.Module):\n",
    "    def __init__(self, in_dim: int):\n",
    "        super().__init__()\n",
    "        self.net = nn.Sequential(\n",
    "            nn.Linear(in_dim, 128), nn.ReLU(), nn.Dropout(0.15),\n",
    "            nn.Linear(128, 64), nn.ReLU(), nn.Dropout(0.15),\n",
    "            nn.Linear(64, 32), nn.ReLU(), nn.Dropout(0.10),\n",
    "            nn.Linear(32, 1)\n",
    "        )\n",
    "    def forward(self, x): return self.net(x)\n",
    "\n",
    "model = MLP(in_dim=Xtr_t.shape[1])\n",
    "criterion = nn.BCEWithLogitsLoss(pos_weight=pos_weight)\n",
    "optimizer = torch.optim.Adam(model.parameters(), lr=1e-3)\n",
    "best_auc, best_state, patience, wait = 0.0, None, 3, 0\n",
    "\n",
    "history = {\"train_loss\": [], \"val_auc\": []}\n",
    "\n",
    "for epoch in range(1, 51):\n",
    "    # train\n",
    "    model.train()\n",
    "    epoch_loss = 0.0\n",
    "    for xb, yb in train_loader:\n",
    "        optimizer.zero_grad()\n",
    "        logits = model(xb)\n",
    "        loss = criterion(logits, yb)\n",
    "        loss.backward(); optimizer.step()\n",
    "        epoch_loss += loss.item() * len(xb)\n",
    "    epoch_loss /= len(Xtr_t)\n",
    "\n",
    "    # val\n",
    "    model.eval()\n",
    "    with torch.no_grad():\n",
    "        val_logits = model(Xva_t).squeeze(1).numpy()\n",
    "        val_proba = 1 / (1 + np.exp(-val_logits))\n",
    "    val_auc = roc_auc_score(y_val, val_proba)\n",
    "\n",
    "    history[\"train_loss\"].append(epoch_loss)\n",
    "    history[\"val_auc\"].append(val_auc)\n",
    "\n",
    "    # early stopping\n",
    "    if val_auc > best_auc + 1e-4:\n",
    "        best_auc = val_auc\n",
    "        best_state = model.state_dict()\n",
    "        wait = 0\n",
    "    else:\n",
    "        wait += 1\n",
    "        if wait >= patience: break\n",
    "\n",
    "# восстановим лучшие веса\n",
    "if best_state is not None:\n",
    "    model.load_state_dict(best_state)\n",
    "\n",
    "metrics_nn = evaluate_proba(y_val, 1/(1+np.exp(-model(Xva_t).detach().squeeze(1).numpy())))\n",
    "metrics_nn"
   ]
  },
  {
   "cell_type": "markdown",
   "id": "27ecbe52",
   "metadata": {},
   "source": [
    "Кривые обучения NN"
   ]
  },
  {
   "cell_type": "code",
   "execution_count": 12,
   "id": "af1b3725",
   "metadata": {},
   "outputs": [
    {
     "data": {
      "image/png": "[encoded data removed]",
      "text/plain": [
       "<Figure size 600x300 with 1 Axes>"
      ]
     },
     "metadata": {},
     "output_type": "display_data"
    },
    {
     "data": {
      "image/png": "[encoded data removed]",
      "text/plain": [
       "<Figure size 600x300 with 1 Axes>"
      ]
     },
     "metadata": {},
     "output_type": "display_data"
    }
   ],
   "source": [
    "plt.figure(figsize=(6,3))\n",
    "plt.plot(history[\"train_loss\"])\n",
    "plt.title(\"NN: train loss\"); plt.xlabel(\"epoch\"); plt.ylabel(\"loss\")\n",
    "plt.tight_layout(); plt.savefig(f\"{ART_DIR}/nn_train_loss.png\", dpi=120); plt.show()\n",
    "\n",
    "plt.figure(figsize=(6,3))\n",
    "plt.plot(history[\"val_auc\"])\n",
    "plt.title(\"NN: val ROC-AUC\"); plt.xlabel(\"epoch\"); plt.ylabel(\"ROC-AUC\")\n",
    "plt.tight_layout(); plt.savefig(f\"{ART_DIR}/nn_val_roc_auc.png\", dpi=120); plt.show()"
   ]
  },
  {
   "cell_type": "markdown",
   "id": "2122a074",
   "metadata": {},
   "source": [
    "Сравнение моделей и выбор лучшей"
   ]
  },
  {
   "cell_type": "code",
   "execution_count": 13,
   "id": "b4eff92d",
   "metadata": {},
   "outputs": [
    {
     "data": {
      "text/html": [
       "<div>\n",
       "<style scoped>\n",
       "    .dataframe tbody tr th:only-of-type {\n",
       "        vertical-align: middle;\n",
       "    }\n",
       "\n",
       "    .dataframe tbody tr th {\n",
       "        vertical-align: top;\n",
       "    }\n",
       "\n",
       "    .dataframe thead th {\n",
       "        text-align: right;\n",
       "    }\n",
       "</style>\n",
       "<table border=\"1\" class=\"dataframe\">\n",
       "  <thead>\n",
       "    <tr style=\"text-align: right;\">\n",
       "      <th></th>\n",
       "      <th>roc_auc</th>\n",
       "      <th>avg_prec</th>\n",
       "      <th>f1</th>\n",
       "      <th>accuracy</th>\n",
       "    </tr>\n",
       "  </thead>\n",
       "  <tbody>\n",
       "    <tr>\n",
       "      <th>neural_net</th>\n",
       "      <td>0.962717</td>\n",
       "      <td>0.956950</td>\n",
       "      <td>0.886421</td>\n",
       "      <td>0.898158</td>\n",
       "    </tr>\n",
       "    <tr>\n",
       "      <th>random_forest</th>\n",
       "      <td>0.959888</td>\n",
       "      <td>0.953515</td>\n",
       "      <td>0.883181</td>\n",
       "      <td>0.895325</td>\n",
       "    </tr>\n",
       "    <tr>\n",
       "      <th>logreg</th>\n",
       "      <td>0.955701</td>\n",
       "      <td>0.948494</td>\n",
       "      <td>0.875803</td>\n",
       "      <td>0.888608</td>\n",
       "    </tr>\n",
       "  </tbody>\n",
       "</table>\n",
       "</div>"
      ],
      "text/plain": [
       "                roc_auc  avg_prec        f1  accuracy\n",
       "neural_net     0.962717  0.956950  0.886421  0.898158\n",
       "random_forest  0.959888  0.953515  0.883181  0.895325\n",
       "logreg         0.955701  0.948494  0.875803  0.888608"
      ]
     },
     "metadata": {},
     "output_type": "display_data"
    },
    {
     "name": "stdout",
     "output_type": "stream",
     "text": [
      "Best model: neural_net - ROC-AUC: 0.9627\n"
     ]
    }
   ],
   "source": [
    "results = {\n",
    "    \"logreg\": metrics_lr,\n",
    "    \"random_forest\": metrics_rf,\n",
    "    \"neural_net\": metrics_nn,\n",
    "}\n",
    "display(pd.DataFrame(results).T.sort_values(\"roc_auc\", ascending=False))\n",
    "\n",
    "best_model_name = max(results, key=lambda k: results[k][\"roc_auc\"])\n",
    "print(\"Best model:\", best_model_name, \"- ROC-AUC:\", round(results[best_model_name][\"roc_auc\"], 4))\n",
    "\n",
    "# сохраним метрики\n",
    "with open(f\"{ART_DIR}/metrics.json\", \"w\", encoding=\"utf-8\") as f:\n",
    "    json.dump({\"models\": results, \"best_model\": best_model_name,\n",
    "               \"best_score\": results[best_model_name][\"roc_auc\"]}, f, ensure_ascii=False, indent=2)"
   ]
  },
  {
   "cell_type": "markdown",
   "id": "149c537f",
   "metadata": {},
   "source": [
    "Сохранение весов/препроцессоров"
   ]
  },
  {
   "cell_type": "code",
   "execution_count": 14,
   "id": "62f6d5ef",
   "metadata": {},
   "outputs": [
    {
     "name": "stdout",
     "output_type": "stream",
     "text": [
      "Saved models to ../models\n"
     ]
    }
   ],
   "source": [
    "# LogReg - сохраняем весь Pipeline\n",
    "joblib.dump(pipe_lr, f\"{MOD_DIR}/logreg_pipeline.joblib\")\n",
    "\n",
    "# RF - отдельно, без препроцессора\n",
    "joblib.dump(rf, f\"{MOD_DIR}/random_forest.joblib\")\n",
    "\n",
    "# NN - веса и скейлер числовых\n",
    "torch.save(model.state_dict(), f\"{MOD_DIR}/mlp.pt\")\n",
    "joblib.dump(scaler_nn, f\"{MOD_DIR}/nn_numeric_scaler.joblib\")\n",
    "\n",
    "# сохраняем порядок фич\n",
    "pd.Series(feature_cols).to_csv(f\"{MOD_DIR}/feature_list.txt\", index=False, header=False)\n",
    "print(\"Saved models to\", MOD_DIR)"
   ]
  },
  {
   "cell_type": "markdown",
   "id": "36747d37",
   "metadata": {},
   "source": [
    "Инференс на test_preprocessed.csv и сохранение предсказаний"
   ]
  },
  {
   "cell_type": "code",
   "execution_count": 15,
   "id": "d46c76d0",
   "metadata": {},
   "outputs": [
    {
     "name": "stdout",
     "output_type": "stream",
     "text": [
      "Saved: ../artifacts/preds_test.csv\n"
     ]
    },
    {
     "data": {
      "text/html": [
       "<div>\n",
       "<style scoped>\n",
       "    .dataframe tbody tr th:only-of-type {\n",
       "        vertical-align: middle;\n",
       "    }\n",
       "\n",
       "    .dataframe tbody tr th {\n",
       "        vertical-align: top;\n",
       "    }\n",
       "\n",
       "    .dataframe thead th {\n",
       "        text-align: right;\n",
       "    }\n",
       "</style>\n",
       "<table border=\"1\" class=\"dataframe\">\n",
       "  <thead>\n",
       "    <tr style=\"text-align: right;\">\n",
       "      <th></th>\n",
       "      <th>ID</th>\n",
       "      <th>prediction_proba</th>\n",
       "    </tr>\n",
       "  </thead>\n",
       "  <tbody>\n",
       "    <tr>\n",
       "      <th>0</th>\n",
       "      <td>600000</td>\n",
       "      <td>0.990602</td>\n",
       "    </tr>\n",
       "    <tr>\n",
       "      <th>1</th>\n",
       "      <td>600001</td>\n",
       "      <td>0.989552</td>\n",
       "    </tr>\n",
       "    <tr>\n",
       "      <th>2</th>\n",
       "      <td>600002</td>\n",
       "      <td>0.015529</td>\n",
       "    </tr>\n",
       "    <tr>\n",
       "      <th>3</th>\n",
       "      <td>600003</td>\n",
       "      <td>0.216713</td>\n",
       "    </tr>\n",
       "    <tr>\n",
       "      <th>4</th>\n",
       "      <td>600004</td>\n",
       "      <td>0.024523</td>\n",
       "    </tr>\n",
       "  </tbody>\n",
       "</table>\n",
       "</div>"
      ],
      "text/plain": [
       "       ID  prediction_proba\n",
       "0  600000          0.990602\n",
       "1  600001          0.989552\n",
       "2  600002          0.015529\n",
       "3  600003          0.216713\n",
       "4  600004          0.024523"
      ]
     },
     "execution_count": 15,
     "metadata": {},
     "output_type": "execute_result"
    }
   ],
   "source": [
    "# выбираем лучшую модель и делаем предсказания на test\n",
    "X_test = df_test[feature_cols].copy()\n",
    "\n",
    "if best_model_name == \"logreg\":\n",
    "    proba_test = pipe_lr.predict_proba(X_test)[:, 1]\n",
    "\n",
    "elif best_model_name == \"random_forest\":\n",
    "    proba_test = rf.predict_proba(X_test)[:, 1]\n",
    "\n",
    "else:  # neural_net\n",
    "    # применяем тот же скейлер на числовые\n",
    "    X_test[num_cols] = scaler_nn.transform(X_test[num_cols])\n",
    "    Xte_t = torch.tensor(X_test.values, dtype=torch.float32)\n",
    "    with torch.no_grad():\n",
    "        logits = model(Xte_t).squeeze(1).numpy()\n",
    "    proba_test = 1 / (1 + np.exp(-logits))\n",
    "\n",
    "preds = pd.DataFrame({\n",
    "    \"ID\": df_test[\"ID\"].values,\n",
    "    \"prediction_proba\": proba_test\n",
    "})\n",
    "preds.to_csv(f\"{ART_DIR}/preds_test.csv\", index=False)\n",
    "print(\"Saved:\", f\"{ART_DIR}/preds_test.csv\")\n",
    "preds.head()"
   ]
  },
  {
   "cell_type": "markdown",
   "id": "ba2693cf",
   "metadata": {},
   "source": [
    "Submission"
   ]
  },
  {
   "cell_type": "code",
   "execution_count": 16,
   "id": "aa90c434",
   "metadata": {},
   "outputs": [
    {
     "name": "stdout",
     "output_type": "stream",
     "text": [
      "Saved: ../artifacts/submission.csv\n"
     ]
    },
    {
     "data": {
      "text/html": [
       "<div>\n",
       "<style scoped>\n",
       "    .dataframe tbody tr th:only-of-type {\n",
       "        vertical-align: middle;\n",
       "    }\n",
       "\n",
       "    .dataframe tbody tr th {\n",
       "        vertical-align: top;\n",
       "    }\n",
       "\n",
       "    .dataframe thead th {\n",
       "        text-align: right;\n",
       "    }\n",
       "</style>\n",
       "<table border=\"1\" class=\"dataframe\">\n",
       "  <thead>\n",
       "    <tr style=\"text-align: right;\">\n",
       "      <th></th>\n",
       "      <th>ID</th>\n",
       "      <th>prediction</th>\n",
       "    </tr>\n",
       "  </thead>\n",
       "  <tbody>\n",
       "    <tr>\n",
       "      <th>0</th>\n",
       "      <td>600000</td>\n",
       "      <td>0.990603</td>\n",
       "    </tr>\n",
       "    <tr>\n",
       "      <th>1</th>\n",
       "      <td>600001</td>\n",
       "      <td>0.989552</td>\n",
       "    </tr>\n",
       "    <tr>\n",
       "      <th>2</th>\n",
       "      <td>600002</td>\n",
       "      <td>0.015529</td>\n",
       "    </tr>\n",
       "    <tr>\n",
       "      <th>3</th>\n",
       "      <td>600003</td>\n",
       "      <td>0.216713</td>\n",
       "    </tr>\n",
       "    <tr>\n",
       "      <th>4</th>\n",
       "      <td>600004</td>\n",
       "      <td>0.024523</td>\n",
       "    </tr>\n",
       "  </tbody>\n",
       "</table>\n",
       "</div>"
      ],
      "text/plain": [
       "       ID  prediction\n",
       "0  600000    0.990603\n",
       "1  600001    0.989552\n",
       "2  600002    0.015529\n",
       "3  600003    0.216713\n",
       "4  600004    0.024523"
      ]
     },
     "execution_count": 16,
     "metadata": {},
     "output_type": "execute_result"
    }
   ],
   "source": [
    "sub = pd.read_csv(f\"{ART_DIR}/preds_test.csv\") \\\n",
    "       .rename(columns={\"prediction_proba\": \"prediction\"})\n",
    "sub.to_csv(f\"{ART_DIR}/submission.csv\", index=False)\n",
    "print(\"Saved:\", f\"{ART_DIR}/submission.csv\")\n",
    "sub.head()"
   ]
  },
  {
   "cell_type": "markdown",
   "id": "c67662b8",
   "metadata": {},
   "source": [
    "ROC-кривые трёх моделей"
   ]
  },
  {
   "cell_type": "code",
   "execution_count": 20,
   "id": "9f4081a2",
   "metadata": {},
   "outputs": [
    {
     "data": {
      "image/png": "[encoded data removed]",
      "text/plain": [
       "<Figure size 600x400 with 1 Axes>"
      ]
     },
     "metadata": {},
     "output_type": "display_data"
    }
   ],
   "source": [
    "fpr_lr, tpr_lr, _ = roc_curve(y_val, proba_val_lr)\n",
    "fpr_rf, tpr_rf, _ = roc_curve(y_val, proba_val_rf)\n",
    "\n",
    "# для NN уже есть proba из metrics_nn шага:\n",
    "proba_val_nn = 1/(1+np.exp(-model(Xva_t).detach().squeeze(1).numpy()))\n",
    "fpr_nn, tpr_nn, _ = roc_curve(y_val, proba_val_nn)\n",
    "\n",
    "plt.figure(figsize=(6,4))\n",
    "plt.plot(fpr_lr, tpr_lr, label=f\"LR (AUC={metrics_lr['roc_auc']:.3f})\")\n",
    "plt.plot(fpr_rf, tpr_rf, label=f\"RF (AUC={metrics_rf['roc_auc']:.3f})\")\n",
    "plt.plot(fpr_nn, tpr_nn, label=f\"NN (AUC={metrics_nn['roc_auc']:.3f})\")\n",
    "plt.plot([0,1],[0,1],\"--\", color=\"grey\", linewidth=1)\n",
    "plt.xlabel(\"FPR\"); plt.ylabel(\"TPR\"); plt.title(\"ROC-кривые (валидация)\")\n",
    "plt.legend()\n",
    "plt.tight_layout(); plt.savefig(f\"{ART_DIR}/roc_curves.png\", dpi=120); plt.show()"
   ]
  },
  {
   "cell_type": "code",
   "execution_count": 21,
   "id": "dd273ed2",
   "metadata": {},
   "outputs": [
    {
     "name": "stdout",
     "output_type": "stream",
     "text": [
      "Best model pointer saved to ../models/best_model.txt\n"
     ]
    }
   ],
   "source": [
    "# Сохраняем лучшую модель для src/inference.py\n",
    "with open(f\"{MOD_DIR}/best_model.txt\", \"w\") as f:\n",
    "    f.write(best_model_name)\n",
    "print(\"Best model pointer saved to\", f\"{MOD_DIR}/best_model.txt\")"
   ]
  },
  {
   "cell_type": "markdown",
   "id": "4ea9a43e",
   "metadata": {},
   "source": [
    "## Итоги моделирования\n",
    "\n",
    "| Модель         | ROC-AUC | AP (PR-AUC) | F1     | Accuracy |\n",
    "|----------------|--------:|------------:|-------:|---------:|\n",
    "| Neural Net     | **0.9627** | **0.9570**   | 0.8864 | 0.8982   |\n",
    "| Random Forest  | 0.9599 | 0.9535   | 0.8832 | 0.8953   |\n",
    "| Logistic Reg.  | 0.9557 | 0.9485   | 0.8758 | 0.8886   |\n",
    "\n",
    "**Выводы:**\n",
    "- Лучший результат показывает **полносвязная нейросеть (MLP)** по всем ключевым метрикам (ROC-AUC, PR-AUC).\n",
    "- Разрыв между моделями небольшой (0.003–0.007 ROC-AUC), что подтверждает устойчивость признаков и корректную предобработку.\n",
    "- Для продакшен-инференса выбираем **Neural Net**; для интерпретации полезно дополнительно смотреть важности **RandomForest** и коэффициенты **LogReg**."
   ]
  }
 ],
 "metadata": {
  "kernelspec": {
   "display_name": ".venv",
   "language": "python",
   "name": "python3"
  },
  "language_info": {
   "codemirror_mode": {
    "name": "ipython",
    "version": 3
   },
   "file_extension": ".py",
   "mimetype": "text/x-python",
   "name": "python",
   "nbconvert_exporter": "python",
   "pygments_lexer": "ipython3",
   "version": "3.11.4"
  }
 },
 "nbformat": 4,
 "nbformat_minor": 5
}
